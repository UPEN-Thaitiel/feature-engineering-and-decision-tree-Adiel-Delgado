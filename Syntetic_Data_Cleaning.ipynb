{
 "cells": [
  {
   "cell_type": "markdown",
   "id": "bf7ade20",
   "metadata": {},
   "source": [
    "#### Syntetic Data Cleaning\n",
    "\n",
    "**Name:** Adiel Nefthali Delgado Silva\n"
   ]
  },
  {
   "cell_type": "markdown",
   "id": "f5955074",
   "metadata": {},
   "source": [
    "#### Import Libraries"
   ]
  },
  {
   "cell_type": "code",
   "execution_count": 868,
   "id": "ca7cdaaa",
   "metadata": {},
   "outputs": [],
   "source": [
    "import pandas as pd\n",
    "import numpy as np\n",
    "import matplotlib.pyplot as plt\n",
    "import seaborn as sns\n",
    "import math"
   ]
  },
  {
   "cell_type": "markdown",
   "id": "b6a4bd2a",
   "metadata": {},
   "source": [
    "#### Read Dataset"
   ]
  },
  {
   "cell_type": "code",
   "execution_count": 869,
   "id": "6fa5b522",
   "metadata": {},
   "outputs": [],
   "source": [
    "#Define our Dataset Using the Synthetic Data...csv\n",
    "df = pd.read_csv(\"Synthetic_Data_Cleaning_example.csv\")"
   ]
  },
  {
   "cell_type": "markdown",
   "id": "294c7ae7",
   "metadata": {},
   "source": [
    "# Exploratory Data Analysis"
   ]
  },
  {
   "cell_type": "code",
   "execution_count": 870,
   "id": "9dea2181",
   "metadata": {},
   "outputs": [
    {
     "name": "stdout",
     "output_type": "stream",
     "text": [
      "<class 'pandas.core.frame.DataFrame'>\n",
      "RangeIndex: 104 entries, 0 to 103\n",
      "Data columns (total 5 columns):\n",
      " #   Column      Non-Null Count  Dtype  \n",
      "---  ------      --------------  -----  \n",
      " 0   Age         103 non-null    float64\n",
      " 1   Income      103 non-null    float64\n",
      " 2   Gender      84 non-null     object \n",
      " 3   Registered  103 non-null    float64\n",
      " 4   City        103 non-null    object \n",
      "dtypes: float64(3), object(2)\n",
      "memory usage: 4.2+ KB\n"
     ]
    }
   ],
   "source": [
    "#Info about our Dataset, its columns, type of data save on each feature and more\n",
    "df.info()"
   ]
  },
  {
   "cell_type": "code",
   "execution_count": 871,
   "id": "d0793ea6",
   "metadata": {},
   "outputs": [
    {
     "data": {
      "text/html": [
       "<div>\n",
       "<style scoped>\n",
       "    .dataframe tbody tr th:only-of-type {\n",
       "        vertical-align: middle;\n",
       "    }\n",
       "\n",
       "    .dataframe tbody tr th {\n",
       "        vertical-align: top;\n",
       "    }\n",
       "\n",
       "    .dataframe thead th {\n",
       "        text-align: right;\n",
       "    }\n",
       "</style>\n",
       "<table border=\"1\" class=\"dataframe\">\n",
       "  <thead>\n",
       "    <tr style=\"text-align: right;\">\n",
       "      <th></th>\n",
       "      <th>Age</th>\n",
       "      <th>Income</th>\n",
       "      <th>Registered</th>\n",
       "    </tr>\n",
       "  </thead>\n",
       "  <tbody>\n",
       "    <tr>\n",
       "      <th>count</th>\n",
       "      <td>103.000000</td>\n",
       "      <td>103.000000</td>\n",
       "      <td>103.000000</td>\n",
       "    </tr>\n",
       "    <tr>\n",
       "      <th>mean</th>\n",
       "      <td>29.573987</td>\n",
       "      <td>51079.867179</td>\n",
       "      <td>0.504854</td>\n",
       "    </tr>\n",
       "    <tr>\n",
       "      <th>std</th>\n",
       "      <td>13.137300</td>\n",
       "      <td>21167.304578</td>\n",
       "      <td>0.502421</td>\n",
       "    </tr>\n",
       "    <tr>\n",
       "      <th>min</th>\n",
       "      <td>-5.000000</td>\n",
       "      <td>-1000.000000</td>\n",
       "      <td>0.000000</td>\n",
       "    </tr>\n",
       "    <tr>\n",
       "      <th>25%</th>\n",
       "      <td>23.988273</td>\n",
       "      <td>37726.305475</td>\n",
       "      <td>0.000000</td>\n",
       "    </tr>\n",
       "    <tr>\n",
       "      <th>50%</th>\n",
       "      <td>28.843517</td>\n",
       "      <td>51028.444622</td>\n",
       "      <td>1.000000</td>\n",
       "    </tr>\n",
       "    <tr>\n",
       "      <th>75%</th>\n",
       "      <td>34.967142</td>\n",
       "      <td>58315.989946</td>\n",
       "      <td>1.000000</td>\n",
       "    </tr>\n",
       "    <tr>\n",
       "      <th>max</th>\n",
       "      <td>120.000000</td>\n",
       "      <td>200000.000000</td>\n",
       "      <td>1.000000</td>\n",
       "    </tr>\n",
       "  </tbody>\n",
       "</table>\n",
       "</div>"
      ],
      "text/plain": [
       "              Age         Income  Registered\n",
       "count  103.000000     103.000000  103.000000\n",
       "mean    29.573987   51079.867179    0.504854\n",
       "std     13.137300   21167.304578    0.502421\n",
       "min     -5.000000   -1000.000000    0.000000\n",
       "25%     23.988273   37726.305475    0.000000\n",
       "50%     28.843517   51028.444622    1.000000\n",
       "75%     34.967142   58315.989946    1.000000\n",
       "max    120.000000  200000.000000    1.000000"
      ]
     },
     "execution_count": 871,
     "metadata": {},
     "output_type": "execute_result"
    }
   ],
   "source": [
    "#It describe the statistics that our dataset has\n",
    "df.describe()"
   ]
  },
  {
   "cell_type": "code",
   "execution_count": 872,
   "id": "529c12e1",
   "metadata": {},
   "outputs": [
    {
     "data": {
      "text/html": [
       "<div>\n",
       "<style scoped>\n",
       "    .dataframe tbody tr th:only-of-type {\n",
       "        vertical-align: middle;\n",
       "    }\n",
       "\n",
       "    .dataframe tbody tr th {\n",
       "        vertical-align: top;\n",
       "    }\n",
       "\n",
       "    .dataframe thead th {\n",
       "        text-align: right;\n",
       "    }\n",
       "</style>\n",
       "<table border=\"1\" class=\"dataframe\">\n",
       "  <thead>\n",
       "    <tr style=\"text-align: right;\">\n",
       "      <th></th>\n",
       "      <th>Age</th>\n",
       "      <th>Income</th>\n",
       "      <th>Gender</th>\n",
       "      <th>Registered</th>\n",
       "      <th>City</th>\n",
       "    </tr>\n",
       "  </thead>\n",
       "  <tbody>\n",
       "    <tr>\n",
       "      <th>0</th>\n",
       "      <td>34.967142</td>\n",
       "      <td>28769.438869</td>\n",
       "      <td>Male</td>\n",
       "      <td>1.0</td>\n",
       "      <td>New York</td>\n",
       "    </tr>\n",
       "    <tr>\n",
       "      <th>1</th>\n",
       "      <td>28.617357</td>\n",
       "      <td>43690.320159</td>\n",
       "      <td>Female</td>\n",
       "      <td>0.0</td>\n",
       "      <td>Paris</td>\n",
       "    </tr>\n",
       "    <tr>\n",
       "      <th>2</th>\n",
       "      <td>36.476885</td>\n",
       "      <td>44859.282252</td>\n",
       "      <td>MALE</td>\n",
       "      <td>1.0</td>\n",
       "      <td>Tokyo</td>\n",
       "    </tr>\n",
       "    <tr>\n",
       "      <th>3</th>\n",
       "      <td>45.230299</td>\n",
       "      <td>37965.840962</td>\n",
       "      <td>FEMALE</td>\n",
       "      <td>0.0</td>\n",
       "      <td>Berlin</td>\n",
       "    </tr>\n",
       "    <tr>\n",
       "      <th>4</th>\n",
       "      <td>27.658466</td>\n",
       "      <td>47580.714325</td>\n",
       "      <td>male</td>\n",
       "      <td>1.0</td>\n",
       "      <td>New York</td>\n",
       "    </tr>\n",
       "  </tbody>\n",
       "</table>\n",
       "</div>"
      ],
      "text/plain": [
       "         Age        Income  Gender  Registered      City\n",
       "0  34.967142  28769.438869    Male         1.0  New York\n",
       "1  28.617357  43690.320159  Female         0.0     Paris\n",
       "2  36.476885  44859.282252    MALE         1.0     Tokyo\n",
       "3  45.230299  37965.840962  FEMALE         0.0    Berlin\n",
       "4  27.658466  47580.714325    male         1.0  New York"
      ]
     },
     "execution_count": 872,
     "metadata": {},
     "output_type": "execute_result"
    }
   ],
   "source": [
    "#Show the first 5 rows of the Dataset\n",
    "df.head()"
   ]
  },
  {
   "cell_type": "code",
   "execution_count": 873,
   "id": "cb54a07d",
   "metadata": {},
   "outputs": [
    {
     "data": {
      "text/plain": [
       "array([[<Axes: title={'center': 'Age'}>,\n",
       "        <Axes: title={'center': 'Income'}>],\n",
       "       [<Axes: title={'center': 'Registered'}>, <Axes: >]], dtype=object)"
      ]
     },
     "execution_count": 873,
     "metadata": {},
     "output_type": "execute_result"
    },
    {
     "data": {
      "image/png": "[encoded data removed]",
      "text/plain": [
       "<Figure size 1000x1000 with 4 Axes>"
      ]
     },
     "metadata": {},
     "output_type": "display_data"
    }
   ],
   "source": [
    "#Show a histogram of the Dataset, that describes in a chart how the values of all INT columns has in each\n",
    "#instance\n",
    "df.hist(figsize=(10,10))"
   ]
  },
  {
   "cell_type": "markdown",
   "id": "a832b587",
   "metadata": {},
   "source": [
    "### ^\n",
    "#### As we can see above in the histogram, we have a few outliers in the Age & Income Feature than we need to clean up, in order to have a clean DataSet"
   ]
  },
  {
   "cell_type": "code",
   "execution_count": 874,
   "id": "bcae5c65",
   "metadata": {},
   "outputs": [
    {
     "data": {
      "text/plain": [
       "(104, 5)"
      ]
     },
     "execution_count": 874,
     "metadata": {},
     "output_type": "execute_result"
    }
   ],
   "source": [
    "#Show the quantity of instances that the Dataset has\n",
    "df.shape"
   ]
  },
  {
   "cell_type": "markdown",
   "id": "f67e4462",
   "metadata": {},
   "source": [
    "#### Who is the richest person in the Dataset"
   ]
  },
  {
   "cell_type": "code",
   "execution_count": 875,
   "id": "9e93faf0",
   "metadata": {},
   "outputs": [
    {
     "data": {
      "text/plain": [
       "Age              120.0\n",
       "Income        200000.0\n",
       "Gender            Male\n",
       "Registered         NaN\n",
       "City          New York\n",
       "Name: 100, dtype: object"
      ]
     },
     "execution_count": 875,
     "metadata": {},
     "output_type": "execute_result"
    }
   ],
   "source": [
    "df.loc[df[\"Income\"].idxmax()]"
   ]
  },
  {
   "cell_type": "markdown",
   "id": "e95c3011",
   "metadata": {},
   "source": [
    "#### Who is the poorest person in the Dataset"
   ]
  },
  {
   "cell_type": "code",
   "execution_count": 876,
   "id": "dd86d201",
   "metadata": {},
   "outputs": [
    {
     "data": {
      "text/plain": [
       "Age             -5.0\n",
       "Income       -1000.0\n",
       "Gender        Female\n",
       "Registered       1.0\n",
       "City             NaN\n",
       "Name: 101, dtype: object"
      ]
     },
     "execution_count": 876,
     "metadata": {},
     "output_type": "execute_result"
    }
   ],
   "source": [
    "df.loc[df[\"Income\"].idxmin()]"
   ]
  },
  {
   "cell_type": "markdown",
   "id": "fd1a096c",
   "metadata": {},
   "source": [
    "#### Top 10 richest person in the Dataset"
   ]
  },
  {
   "cell_type": "code",
   "execution_count": 877,
   "id": "4de04803",
   "metadata": {},
   "outputs": [
    {
     "data": {
      "text/html": [
       "<div>\n",
       "<style scoped>\n",
       "    .dataframe tbody tr th:only-of-type {\n",
       "        vertical-align: middle;\n",
       "    }\n",
       "\n",
       "    .dataframe tbody tr th {\n",
       "        vertical-align: top;\n",
       "    }\n",
       "\n",
       "    .dataframe thead th {\n",
       "        text-align: right;\n",
       "    }\n",
       "</style>\n",
       "<table border=\"1\" class=\"dataframe\">\n",
       "  <thead>\n",
       "    <tr style=\"text-align: right;\">\n",
       "      <th></th>\n",
       "      <th>Gender</th>\n",
       "      <th>Income</th>\n",
       "    </tr>\n",
       "  </thead>\n",
       "  <tbody>\n",
       "    <tr>\n",
       "      <th>100</th>\n",
       "      <td>Male</td>\n",
       "      <td>200000.000000</td>\n",
       "    </tr>\n",
       "    <tr>\n",
       "      <th>79</th>\n",
       "      <td>NaN</td>\n",
       "      <td>90802.537499</td>\n",
       "    </tr>\n",
       "    <tr>\n",
       "      <th>13</th>\n",
       "      <td>FEMALE</td>\n",
       "      <td>86948.631687</td>\n",
       "    </tr>\n",
       "    <tr>\n",
       "      <th>25</th>\n",
       "      <td>female</td>\n",
       "      <td>82856.834387</td>\n",
       "    </tr>\n",
       "    <tr>\n",
       "      <th>67</th>\n",
       "      <td>Femael</td>\n",
       "      <td>78451.894740</td>\n",
       "    </tr>\n",
       "    <tr>\n",
       "      <th>6</th>\n",
       "      <td>femle</td>\n",
       "      <td>78292.788518</td>\n",
       "    </tr>\n",
       "    <tr>\n",
       "      <th>56</th>\n",
       "      <td>femle</td>\n",
       "      <td>77986.617667</td>\n",
       "    </tr>\n",
       "    <tr>\n",
       "      <th>35</th>\n",
       "      <td>female</td>\n",
       "      <td>73249.016075</td>\n",
       "    </tr>\n",
       "    <tr>\n",
       "      <th>77</th>\n",
       "      <td>Femael</td>\n",
       "      <td>71803.011157</td>\n",
       "    </tr>\n",
       "    <tr>\n",
       "      <th>22</th>\n",
       "      <td>MALE</td>\n",
       "      <td>71041.914664</td>\n",
       "    </tr>\n",
       "  </tbody>\n",
       "</table>\n",
       "</div>"
      ],
      "text/plain": [
       "     Gender         Income\n",
       "100    Male  200000.000000\n",
       "79      NaN   90802.537499\n",
       "13   FEMALE   86948.631687\n",
       "25   female   82856.834387\n",
       "67   Femael   78451.894740\n",
       "6     femle   78292.788518\n",
       "56    femle   77986.617667\n",
       "35   female   73249.016075\n",
       "77   Femael   71803.011157\n",
       "22     MALE   71041.914664"
      ]
     },
     "execution_count": 877,
     "metadata": {},
     "output_type": "execute_result"
    }
   ],
   "source": [
    "filtered_df = df[['Gender', 'Income']].sort_values(by='Income', ascending=False).head(10)\n",
    "filtered_df.sort_values(by='Income', ascending=False).head(10)"
   ]
  },
  {
   "cell_type": "markdown",
   "id": "f592b4da",
   "metadata": {},
   "source": [
    "#### Income mean per city"
   ]
  },
  {
   "cell_type": "code",
   "execution_count": 878,
   "id": "6e7edfab",
   "metadata": {},
   "outputs": [],
   "source": [
    "income_mean_city = df.groupby('City')['Income'].mean().reset_index()"
   ]
  },
  {
   "cell_type": "code",
   "execution_count": 879,
   "id": "65d4bf42",
   "metadata": {},
   "outputs": [
    {
     "data": {
      "image/png": "[encoded data removed]",
      "text/plain": [
       "<Figure size 600x300 with 1 Axes>"
      ]
     },
     "metadata": {},
     "output_type": "display_data"
    }
   ],
   "source": [
    "plt.figure(figsize=(6, 3))\n",
    "sns.barplot(x='City', y='Income', data=income_mean_city)\n",
    "plt.title('Ingreso Promedio por Ciudad', fontsize=16)\n",
    "plt.xlabel('Ciudad', fontsize=12)\n",
    "plt.ylabel('Ingreso Promedio', fontsize=12)\n",
    "plt.xticks(rotation=45) \n",
    "plt.show()"
   ]
  },
  {
   "cell_type": "markdown",
   "id": "5f55ab61",
   "metadata": {},
   "source": [
    "#### Distribution of the Income"
   ]
  },
  {
   "cell_type": "code",
   "execution_count": 880,
   "id": "3cf4735a",
   "metadata": {},
   "outputs": [
    {
     "data": {
      "image/png": "[encoded data removed]",
      "text/plain": [
       "<Figure size 1000x600 with 1 Axes>"
      ]
     },
     "metadata": {},
     "output_type": "display_data"
    }
   ],
   "source": [
    "plt.figure(figsize=(10, 6))\n",
    "sns.histplot(df['Income'], bins=30)\n",
    "plt.title('Distribución del Ingreso (Income)')\n",
    "plt.xlabel('Ingreso')\n",
    "plt.ylabel('Frecuencia')\n",
    "plt.show()"
   ]
  },
  {
   "cell_type": "code",
   "execution_count": 881,
   "id": "8ebd6436",
   "metadata": {},
   "outputs": [
    {
     "data": {
      "image/png": "[encoded data removed]",
      "text/plain": [
       "<Figure size 1000x600 with 1 Axes>"
      ]
     },
     "metadata": {},
     "output_type": "display_data"
    }
   ],
   "source": [
    "#Boxplot of Age Feature\n",
    "plt.figure(figsize=(10, 6))\n",
    "sns.boxplot(x=df['Age'])\n",
    "plt.title('Diagrama de Caja de la Edad (Age)')\n",
    "plt.xlabel('Edad')\n",
    "plt.show()"
   ]
  },
  {
   "cell_type": "markdown",
   "id": "578e697f",
   "metadata": {},
   "source": [
    "#### Person per Gender"
   ]
  },
  {
   "cell_type": "code",
   "execution_count": 882,
   "id": "1279bed2",
   "metadata": {},
   "outputs": [
    {
     "data": {
      "image/png": "[encoded data removed]",
      "text/plain": [
       "<Figure size 800x500 with 1 Axes>"
      ]
     },
     "metadata": {},
     "output_type": "display_data"
    }
   ],
   "source": [
    "plt.figure(figsize=(8, 5))\n",
    "sns.countplot(x='Gender', data=df)\n",
    "plt.title('Personas por Genero')\n",
    "plt.xlabel('Género')\n",
    "plt.ylabel('Cantidad')\n",
    "plt.show()"
   ]
  },
  {
   "cell_type": "markdown",
   "id": "5dec2e81",
   "metadata": {},
   "source": [
    "#### Person per City"
   ]
  },
  {
   "cell_type": "code",
   "execution_count": 883,
   "id": "a228398a",
   "metadata": {},
   "outputs": [
    {
     "data": {
      "image/png": "[encoded data removed]",
      "text/plain": [
       "<Figure size 1200x600 with 1 Axes>"
      ]
     },
     "metadata": {},
     "output_type": "display_data"
    }
   ],
   "source": [
    "plt.figure(figsize=(12, 6))\n",
    "sns.countplot(y='City', data=df, order = df['City'].value_counts().index) # 'y' para barras horizontales\n",
    "plt.title('Conteo de Participantes por Ciudad')\n",
    "plt.xlabel('Cantidad')\n",
    "plt.ylabel('Ciudad')\n",
    "plt.show()"
   ]
  },
  {
   "cell_type": "markdown",
   "id": "c7da14ec",
   "metadata": {},
   "source": [
    "#### Dispertion between Age and Income"
   ]
  },
  {
   "cell_type": "code",
   "execution_count": 884,
   "id": "c03d25e8",
   "metadata": {},
   "outputs": [
    {
     "data": {
      "image/png": "[encoded data removed]",
      "text/plain": [
       "<Figure size 1000x600 with 1 Axes>"
      ]
     },
     "metadata": {},
     "output_type": "display_data"
    }
   ],
   "source": [
    "plt.figure(figsize=(10, 6))\n",
    "sns.scatterplot(x='Age', y='Income', data=df)\n",
    "plt.title('Relación entre Edad e Ingreso')\n",
    "plt.xlabel('Edad')\n",
    "plt.ylabel('Ingreso')\n",
    "plt.show()"
   ]
  },
  {
   "cell_type": "markdown",
   "id": "aaec4d11",
   "metadata": {},
   "source": [
    "#### Differences between incomes depending on the Gender"
   ]
  },
  {
   "cell_type": "code",
   "execution_count": 885,
   "id": "348be012",
   "metadata": {},
   "outputs": [
    {
     "data": {
      "image/png": "[encoded data removed]",
      "text/plain": [
       "<Figure size 1000x600 with 1 Axes>"
      ]
     },
     "metadata": {},
     "output_type": "display_data"
    }
   ],
   "source": [
    "plt.figure(figsize=(10, 6))\n",
    "sns.boxplot(x='Gender', y='Income', data=df)\n",
    "plt.title('Distribución de Ingreso por Género')\n",
    "plt.xlabel('Género')\n",
    "plt.ylabel('Ingreso')\n",
    "plt.show()"
   ]
  },
  {
   "cell_type": "markdown",
   "id": "d074db61",
   "metadata": {},
   "source": [
    "#### Correlation between Income & Age"
   ]
  },
  {
   "cell_type": "code",
   "execution_count": 886,
   "id": "05a03f73",
   "metadata": {},
   "outputs": [
    {
     "data": {
      "image/png": "[encoded data removed]",
      "text/plain": [
       "<Figure size 800x600 with 2 Axes>"
      ]
     },
     "metadata": {},
     "output_type": "display_data"
    }
   ],
   "source": [
    "correlation_matrix = df[['Age', 'Income']].corr(numeric_only=True)\n",
    "plt.figure(figsize=(8, 6))\n",
    "sns.heatmap(correlation_matrix, annot=True, cmap='coolwarm', linewidths=.5)\n",
    "plt.title('Correlacion entre Ingreso y Edad')\n",
    "plt.show()"
   ]
  },
  {
   "cell_type": "markdown",
   "id": "91629739",
   "metadata": {},
   "source": [
    "# Data Cleaning"
   ]
  },
  {
   "cell_type": "markdown",
   "id": "e16bd9b5",
   "metadata": {},
   "source": [
    "#### Before get rid of the outliers, the dataset needs to havo no Null values on it(In case it does have Null values of course)"
   ]
  },
  {
   "cell_type": "code",
   "execution_count": 887,
   "id": "2bd5c237",
   "metadata": {},
   "outputs": [
    {
     "data": {
      "text/plain": [
       "Age            1\n",
       "Income         1\n",
       "Gender        20\n",
       "Registered     1\n",
       "City           1\n",
       "dtype: int64"
      ]
     },
     "execution_count": 887,
     "metadata": {},
     "output_type": "execute_result"
    }
   ],
   "source": [
    "#Show the quantity of Null or Empty values that the Dataset has, in this case we can figure it out that the gender feature has 20 null values.\n",
    "df.isnull().sum()"
   ]
  },
  {
   "cell_type": "code",
   "execution_count": 888,
   "id": "8f9668c9",
   "metadata": {},
   "outputs": [
    {
     "data": {
      "text/plain": [
       "Age           0\n",
       "Income        0\n",
       "Gender        0\n",
       "Registered    0\n",
       "City          0\n",
       "dtype: int64"
      ]
     },
     "execution_count": 888,
     "metadata": {},
     "output_type": "execute_result"
    }
   ],
   "source": [
    "#With those values that are Null, they need to be replaced or in this case deleted, in order to have a better Dataset to use.\n",
    "df = df.dropna()\n",
    "df.isnull().sum()"
   ]
  },
  {
   "cell_type": "markdown",
   "id": "f95277b2",
   "metadata": {},
   "source": [
    "#### The Age feature will be the first to be clean out"
   ]
  },
  {
   "cell_type": "code",
   "execution_count": 889,
   "id": "9598673c",
   "metadata": {},
   "outputs": [
    {
     "data": {
      "text/plain": [
       "Age\n",
       "25.0    7\n",
       "33.0    5\n",
       "28.0    5\n",
       "31.0    4\n",
       "38.0    4\n",
       "27.0    4\n",
       "45.0    4\n",
       "18.0    3\n",
       "32.0    3\n",
       "23.0    3\n",
       "40.0    3\n",
       "34.0    3\n",
       "29.0    3\n",
       "35.0    2\n",
       "36.0    2\n",
       "46.0    2\n",
       "24.0    2\n",
       "22.0    2\n",
       "39.0    2\n",
       "19.0    2\n",
       "30.0    2\n",
       "15.0    2\n",
       "26.0    2\n",
       "13.0    1\n",
       "20.0    1\n",
       "16.0    1\n",
       "11.0    1\n",
       "49.0    1\n",
       "37.0    1\n",
       "10.0    1\n",
       "41.0    1\n",
       "44.0    1\n",
       "4.0     1\n",
       "Name: count, dtype: int64"
      ]
     },
     "execution_count": 889,
     "metadata": {},
     "output_type": "execute_result"
    }
   ],
   "source": [
    "#First the age values need to be round, in order to make groups of age, avoiding 31.5 & 31.6 to be different values\n",
    "df['Age'] = df['Age'].round(0)\n",
    "df[\"Age\"].value_counts()"
   ]
  },
  {
   "cell_type": "code",
   "execution_count": 890,
   "id": "d9f4942f",
   "metadata": {},
   "outputs": [
    {
     "data": {
      "text/plain": [
       "<Axes: >"
      ]
     },
     "execution_count": 890,
     "metadata": {},
     "output_type": "execute_result"
    },
    {
     "data": {
      "image/png": "[encoded data removed]",
      "text/plain": [
       "<Figure size 640x480 with 1 Axes>"
      ]
     },
     "metadata": {},
     "output_type": "display_data"
    }
   ],
   "source": [
    "#Now it is obvious that we are getting some information of people, but how is posible to a person under 18 to have any income?\n",
    "#Then we will delete those instances in order to have a \"realistic Dataframe haha\"\n",
    "df[\"Age\"].hist()"
   ]
  },
  {
   "cell_type": "code",
   "execution_count": 891,
   "id": "5ac63c38",
   "metadata": {},
   "outputs": [
    {
     "data": {
      "text/plain": [
       "<Axes: >"
      ]
     },
     "execution_count": 891,
     "metadata": {},
     "output_type": "execute_result"
    },
    {
     "data": {
      "image/png": "[encoded data removed]",
      "text/plain": [
       "<Figure size 640x480 with 1 Axes>"
      ]
     },
     "metadata": {},
     "output_type": "display_data"
    }
   ],
   "source": [
    "#Modifying the dataset\n",
    "df[\"Age\"] = df[\"Age\"][((df[\"Age\"] >= 18) & (df[\"Age\"] <= 50))]\n",
    "df[\"Age\"].hist()"
   ]
  },
  {
   "cell_type": "code",
   "execution_count": 892,
   "id": "a823384e",
   "metadata": {},
   "outputs": [
    {
     "data": {
      "text/plain": [
       "(81, 5)"
      ]
     },
     "execution_count": 892,
     "metadata": {},
     "output_type": "execute_result"
    }
   ],
   "source": [
    "df.shape"
   ]
  },
  {
   "cell_type": "code",
   "execution_count": 893,
   "id": "0237014d",
   "metadata": {},
   "outputs": [
    {
     "data": {
      "text/plain": [
       "<Axes: >"
      ]
     },
     "execution_count": 893,
     "metadata": {},
     "output_type": "execute_result"
    },
    {
     "data": {
      "image/png": "[encoded data removed]",
      "text/plain": [
       "<Figure size 640x480 with 1 Axes>"
      ]
     },
     "metadata": {},
     "output_type": "display_data"
    }
   ],
   "source": [
    "#Now lets check out the income feature\n",
    "df[\"Income\"].hist()"
   ]
  },
  {
   "cell_type": "code",
   "execution_count": 894,
   "id": "de318a02",
   "metadata": {},
   "outputs": [
    {
     "data": {
      "text/plain": [
       "94     52597.713888\n",
       "95     55779.760696\n",
       "96     36742.138457\n",
       "97     52305.876589\n",
       "103    28769.438869\n",
       "Name: Income, dtype: float64"
      ]
     },
     "execution_count": 894,
     "metadata": {},
     "output_type": "execute_result"
    }
   ],
   "source": [
    "df[\"Income\"].tail()"
   ]
  },
  {
   "cell_type": "code",
   "execution_count": 895,
   "id": "3c82037e",
   "metadata": {},
   "outputs": [
    {
     "data": {
      "text/plain": [
       "array([28769.44, 43690.32, 44859.28, 37965.84, 47580.71, 56060.76,\n",
       "       78292.79, 52618.67, 21218.43, 49602.29, 50903.45, 86948.63,\n",
       "       47114.59, 54523.21, 49479.32, 32469.83, 61865.48, 36359.19,\n",
       "       71041.91, 28972.23, 58802.86, 82856.83, 35141.96, 41505.53,\n",
       "       26740.05, 51028.44, 34065.44, 57103.89, 36208.64, 73249.02,\n",
       "       38251.2 , 45169.08, 53411.9 , 69607.14, 25887.75, 52769.51,\n",
       "       53898.24, 61727.34, 31445.74, 30193.15, 53757.39, 55196.72,\n",
       "       39799.63, 53483.81, 54396.09, 39284.73, 77986.62, 57107.49,\n",
       "       35379.77, 61806.27, 67378.93, 37689.77, 64450.64, 56191.71,\n",
       "       62330.9 , 78451.89, 36657.28, 37762.85, 48843.47, 55117.28,\n",
       "       54150.36, 62407.75, 50195.03, 71803.01, 59385.01, 37142.64,\n",
       "       33936.61, 57237.09, 46648.06, 60710.01, 57098.56, 48907.57,\n",
       "       43302.28, 62845.98, 53211.41, 31313.92, 52597.71, 55779.76,\n",
       "       36742.14, 52305.88, 28769.44])"
      ]
     },
     "execution_count": 895,
     "metadata": {},
     "output_type": "execute_result"
    }
   ],
   "source": [
    "df['Income'] = df['Income'].round(2)\n",
    "df[\"Income\"].values"
   ]
  },
  {
   "cell_type": "code",
   "execution_count": 896,
   "id": "b612906d",
   "metadata": {},
   "outputs": [
    {
     "data": {
      "text/plain": [
       "<Axes: >"
      ]
     },
     "execution_count": 896,
     "metadata": {},
     "output_type": "execute_result"
    },
    {
     "data": {
      "image/png": "[encoded data removed]",
      "text/plain": [
       "<Figure size 640x480 with 1 Axes>"
      ]
     },
     "metadata": {},
     "output_type": "display_data"
    }
   ],
   "source": [
    "#For better values\n",
    "df[\"Income\"] = df[\"Income\"][((df[\"Income\"] >= 30000) & (df[\"Income\"] <= 70000))]\n",
    "df[\"Income\"].hist()"
   ]
  },
  {
   "cell_type": "code",
   "execution_count": 897,
   "id": "7d9cc8b9",
   "metadata": {},
   "outputs": [
    {
     "data": {
      "text/plain": [
       "Age           0\n",
       "Income        0\n",
       "Gender        0\n",
       "Registered    0\n",
       "City          0\n",
       "dtype: int64"
      ]
     },
     "execution_count": 897,
     "metadata": {},
     "output_type": "execute_result"
    }
   ],
   "source": [
    "#Now delete all those values that do not match with the parameters that we decided\n",
    "df = df.dropna()\n",
    "df.isnull().sum()"
   ]
  },
  {
   "cell_type": "code",
   "execution_count": 898,
   "id": "c1f87398",
   "metadata": {},
   "outputs": [
    {
     "data": {
      "text/html": [
       "<div>\n",
       "<style scoped>\n",
       "    .dataframe tbody tr th:only-of-type {\n",
       "        vertical-align: middle;\n",
       "    }\n",
       "\n",
       "    .dataframe tbody tr th {\n",
       "        vertical-align: top;\n",
       "    }\n",
       "\n",
       "    .dataframe thead th {\n",
       "        text-align: right;\n",
       "    }\n",
       "</style>\n",
       "<table border=\"1\" class=\"dataframe\">\n",
       "  <thead>\n",
       "    <tr style=\"text-align: right;\">\n",
       "      <th></th>\n",
       "      <th>Age</th>\n",
       "      <th>Income</th>\n",
       "      <th>Gender</th>\n",
       "      <th>Registered</th>\n",
       "      <th>City</th>\n",
       "    </tr>\n",
       "  </thead>\n",
       "  <tbody>\n",
       "    <tr>\n",
       "      <th>1</th>\n",
       "      <td>29.0</td>\n",
       "      <td>43690.32</td>\n",
       "      <td>Female</td>\n",
       "      <td>0.0</td>\n",
       "      <td>Paris</td>\n",
       "    </tr>\n",
       "    <tr>\n",
       "      <th>2</th>\n",
       "      <td>36.0</td>\n",
       "      <td>44859.28</td>\n",
       "      <td>MALE</td>\n",
       "      <td>1.0</td>\n",
       "      <td>Tokyo</td>\n",
       "    </tr>\n",
       "    <tr>\n",
       "      <th>3</th>\n",
       "      <td>45.0</td>\n",
       "      <td>37965.84</td>\n",
       "      <td>FEMALE</td>\n",
       "      <td>0.0</td>\n",
       "      <td>Berlin</td>\n",
       "    </tr>\n",
       "    <tr>\n",
       "      <th>4</th>\n",
       "      <td>28.0</td>\n",
       "      <td>47580.71</td>\n",
       "      <td>male</td>\n",
       "      <td>1.0</td>\n",
       "      <td>New York</td>\n",
       "    </tr>\n",
       "    <tr>\n",
       "      <th>5</th>\n",
       "      <td>28.0</td>\n",
       "      <td>56060.76</td>\n",
       "      <td>female</td>\n",
       "      <td>0.0</td>\n",
       "      <td>Paris</td>\n",
       "    </tr>\n",
       "  </tbody>\n",
       "</table>\n",
       "</div>"
      ],
      "text/plain": [
       "    Age    Income  Gender  Registered      City\n",
       "1  29.0  43690.32  Female         0.0     Paris\n",
       "2  36.0  44859.28    MALE         1.0     Tokyo\n",
       "3  45.0  37965.84  FEMALE         0.0    Berlin\n",
       "4  28.0  47580.71    male         1.0  New York\n",
       "5  28.0  56060.76  female         0.0     Paris"
      ]
     },
     "execution_count": 898,
     "metadata": {},
     "output_type": "execute_result"
    }
   ],
   "source": [
    "df.head()"
   ]
  },
  {
   "cell_type": "code",
   "execution_count": 899,
   "id": "3dafd882",
   "metadata": {},
   "outputs": [],
   "source": [
    "#Looking in the Gender feature "
   ]
  },
  {
   "cell_type": "code",
   "execution_count": 900,
   "id": "3a00428f",
   "metadata": {},
   "outputs": [
    {
     "data": {
      "text/plain": [
       "array(['Female', 'MALE', 'FEMALE', 'male', 'female', 'Femael', 'Female',\n",
       "       'MALE', 'female', 'femle', 'Femael', 'Male', 'Female', 'male',\n",
       "       'femle', 'Femael', 'Female', 'MALE', 'FEMALE', 'male', 'femle',\n",
       "       'Male', 'Female', 'FEMALE', 'female', 'femle', 'Femael', 'Male',\n",
       "       'Female', 'MALE', 'FEMALE', 'male', 'female', 'Femael', 'Male',\n",
       "       'Female', 'MALE', 'FEMALE', 'male', 'female', 'femle', 'Male',\n",
       "       'Female', 'MALE', 'FEMALE', 'female', 'femle', 'Male', 'Female',\n",
       "       'MALE', 'FEMALE', 'male', 'female', 'femle', 'Femael', 'Male',\n",
       "       'Female', 'MALE', 'FEMALE', 'male', 'femle', 'Femael'],\n",
       "      dtype=object)"
      ]
     },
     "execution_count": 900,
     "metadata": {},
     "output_type": "execute_result"
    }
   ],
   "source": [
    "#There are some issues in this feature, as can be the Upper and Lower values, and even some values with errors\n",
    "df[\"Gender\"].values"
   ]
  },
  {
   "cell_type": "code",
   "execution_count": 901,
   "id": "17e9a5da",
   "metadata": {},
   "outputs": [
    {
     "data": {
      "text/plain": [
       "array(['FEMALE', 'MALE', 'FEMALE', 'MALE', 'FEMALE', 'FEMAEL', 'FEMALE',\n",
       "       'MALE', 'FEMALE', 'FEMLE', 'FEMAEL', 'MALE', 'FEMALE', 'MALE',\n",
       "       'FEMLE', 'FEMAEL', 'FEMALE', 'MALE', 'FEMALE', 'MALE', 'FEMLE',\n",
       "       'MALE', 'FEMALE', 'FEMALE', 'FEMALE', 'FEMLE', 'FEMAEL', 'MALE',\n",
       "       'FEMALE', 'MALE', 'FEMALE', 'MALE', 'FEMALE', 'FEMAEL', 'MALE',\n",
       "       'FEMALE', 'MALE', 'FEMALE', 'MALE', 'FEMALE', 'FEMLE', 'MALE',\n",
       "       'FEMALE', 'MALE', 'FEMALE', 'FEMALE', 'FEMLE', 'MALE', 'FEMALE',\n",
       "       'MALE', 'FEMALE', 'MALE', 'FEMALE', 'FEMLE', 'FEMAEL', 'MALE',\n",
       "       'FEMALE', 'MALE', 'FEMALE', 'MALE', 'FEMLE', 'FEMAEL'],\n",
       "      dtype=object)"
      ]
     },
     "execution_count": 901,
     "metadata": {},
     "output_type": "execute_result"
    }
   ],
   "source": [
    "#First lets change the lower case values to upper case\n",
    "df['Gender'] = df['Gender'].str.upper()\n",
    "df[\"Gender\"].values"
   ]
  },
  {
   "cell_type": "code",
   "execution_count": 902,
   "id": "95b9147e",
   "metadata": {},
   "outputs": [
    {
     "data": {
      "text/plain": [
       "Gender\n",
       "FEMALE    25\n",
       "MALE      22\n",
       "FEMLE      8\n",
       "FEMAEL     7\n",
       "Name: count, dtype: int64"
      ]
     },
     "execution_count": 902,
     "metadata": {},
     "output_type": "execute_result"
    }
   ],
   "source": [
    "df[\"Gender\"].value_counts()"
   ]
  },
  {
   "cell_type": "markdown",
   "id": "6901825f",
   "metadata": {},
   "source": [
    "# Variable Tranformations\n"
   ]
  },
  {
   "cell_type": "code",
   "execution_count": 903,
   "id": "d2971a59",
   "metadata": {},
   "outputs": [
    {
     "data": {
      "text/html": [
       "<div>\n",
       "<style scoped>\n",
       "    .dataframe tbody tr th:only-of-type {\n",
       "        vertical-align: middle;\n",
       "    }\n",
       "\n",
       "    .dataframe tbody tr th {\n",
       "        vertical-align: top;\n",
       "    }\n",
       "\n",
       "    .dataframe thead th {\n",
       "        text-align: right;\n",
       "    }\n",
       "</style>\n",
       "<table border=\"1\" class=\"dataframe\">\n",
       "  <thead>\n",
       "    <tr style=\"text-align: right;\">\n",
       "      <th></th>\n",
       "      <th>Age</th>\n",
       "      <th>Income</th>\n",
       "      <th>Gender</th>\n",
       "      <th>Registered</th>\n",
       "      <th>City</th>\n",
       "    </tr>\n",
       "  </thead>\n",
       "  <tbody>\n",
       "    <tr>\n",
       "      <th>1</th>\n",
       "      <td>29.0</td>\n",
       "      <td>43690.32</td>\n",
       "      <td>FEMALE</td>\n",
       "      <td>0.0</td>\n",
       "      <td>Paris</td>\n",
       "    </tr>\n",
       "    <tr>\n",
       "      <th>2</th>\n",
       "      <td>36.0</td>\n",
       "      <td>44859.28</td>\n",
       "      <td>MALE</td>\n",
       "      <td>1.0</td>\n",
       "      <td>Tokyo</td>\n",
       "    </tr>\n",
       "    <tr>\n",
       "      <th>3</th>\n",
       "      <td>45.0</td>\n",
       "      <td>37965.84</td>\n",
       "      <td>FEMALE</td>\n",
       "      <td>0.0</td>\n",
       "      <td>Berlin</td>\n",
       "    </tr>\n",
       "    <tr>\n",
       "      <th>4</th>\n",
       "      <td>28.0</td>\n",
       "      <td>47580.71</td>\n",
       "      <td>MALE</td>\n",
       "      <td>1.0</td>\n",
       "      <td>New York</td>\n",
       "    </tr>\n",
       "    <tr>\n",
       "      <th>5</th>\n",
       "      <td>28.0</td>\n",
       "      <td>56060.76</td>\n",
       "      <td>FEMALE</td>\n",
       "      <td>0.0</td>\n",
       "      <td>Paris</td>\n",
       "    </tr>\n",
       "  </tbody>\n",
       "</table>\n",
       "</div>"
      ],
      "text/plain": [
       "    Age    Income  Gender  Registered      City\n",
       "1  29.0  43690.32  FEMALE         0.0     Paris\n",
       "2  36.0  44859.28    MALE         1.0     Tokyo\n",
       "3  45.0  37965.84  FEMALE         0.0    Berlin\n",
       "4  28.0  47580.71    MALE         1.0  New York\n",
       "5  28.0  56060.76  FEMALE         0.0     Paris"
      ]
     },
     "execution_count": 903,
     "metadata": {},
     "output_type": "execute_result"
    }
   ],
   "source": [
    "#Now for the Variable Transformation, we are gonna focus in two str fatures, those are City & Gender\n",
    "df.head()"
   ]
  },
  {
   "cell_type": "code",
   "execution_count": 904,
   "id": "8f173544",
   "metadata": {},
   "outputs": [
    {
     "name": "stderr",
     "output_type": "stream",
     "text": [
      "C:\\Users\\nefth\\AppData\\Local\\Temp\\ipykernel_13952\\2819879550.py:2: FutureWarning: A value is trying to be set on a copy of a DataFrame or Series through chained assignment using an inplace method.\n",
      "The behavior will change in pandas 3.0. This inplace method will never work because the intermediate object on which we are setting values always behaves as a copy.\n",
      "\n",
      "For example, when doing 'df[col].method(value, inplace=True)', try using 'df.method({col: value}, inplace=True)' or df[col] = df[col].method(value) instead, to perform the operation inplace on the original object.\n",
      "\n",
      "\n",
      "  df[\"Gender\"].replace({\"FEMAEL\":\"FEMALE\", \"FEMLE\":\"FEMALE\"}, inplace=True)\n"
     ]
    },
    {
     "data": {
      "text/plain": [
       "Gender\n",
       "FEMALE    40\n",
       "MALE      22\n",
       "Name: count, dtype: int64"
      ]
     },
     "execution_count": 904,
     "metadata": {},
     "output_type": "execute_result"
    }
   ],
   "source": [
    "#First lets change those values with error in the Gender Feature (Femle, Femael)\n",
    "df[\"Gender\"].replace({\"FEMAEL\":\"FEMALE\", \"FEMLE\":\"FEMALE\"}, inplace=True)\n",
    "df[\"Gender\"].value_counts()\n"
   ]
  },
  {
   "cell_type": "code",
   "execution_count": 905,
   "id": "c9721593",
   "metadata": {},
   "outputs": [
    {
     "data": {
      "text/plain": [
       "Gender\n",
       "0    40\n",
       "1    22\n",
       "Name: count, dtype: int64"
      ]
     },
     "execution_count": 905,
     "metadata": {},
     "output_type": "execute_result"
    }
   ],
   "source": [
    "#In every ML model we look for using only numerical values, so lets change the values of the gender to 0 and 1\n",
    "df.loc[df[\"Gender\"] == \"FEMALE\", \"Gender\"] = 0\n",
    "df.loc[df[\"Gender\"] == \"MALE\", \"Gender\"] = 1\n",
    "df[\"Gender\"].value_counts()"
   ]
  },
  {
   "cell_type": "code",
   "execution_count": 906,
   "id": "d8b8b803",
   "metadata": {},
   "outputs": [
    {
     "data": {
      "text/html": [
       "<div>\n",
       "<style scoped>\n",
       "    .dataframe tbody tr th:only-of-type {\n",
       "        vertical-align: middle;\n",
       "    }\n",
       "\n",
       "    .dataframe tbody tr th {\n",
       "        vertical-align: top;\n",
       "    }\n",
       "\n",
       "    .dataframe thead th {\n",
       "        text-align: right;\n",
       "    }\n",
       "</style>\n",
       "<table border=\"1\" class=\"dataframe\">\n",
       "  <thead>\n",
       "    <tr style=\"text-align: right;\">\n",
       "      <th></th>\n",
       "      <th>Age</th>\n",
       "      <th>Income</th>\n",
       "      <th>Gender</th>\n",
       "      <th>Registered</th>\n",
       "      <th>City</th>\n",
       "    </tr>\n",
       "  </thead>\n",
       "  <tbody>\n",
       "    <tr>\n",
       "      <th>1</th>\n",
       "      <td>29.0</td>\n",
       "      <td>43690.32</td>\n",
       "      <td>0</td>\n",
       "      <td>0.0</td>\n",
       "      <td>Paris</td>\n",
       "    </tr>\n",
       "    <tr>\n",
       "      <th>2</th>\n",
       "      <td>36.0</td>\n",
       "      <td>44859.28</td>\n",
       "      <td>1</td>\n",
       "      <td>1.0</td>\n",
       "      <td>Tokyo</td>\n",
       "    </tr>\n",
       "    <tr>\n",
       "      <th>3</th>\n",
       "      <td>45.0</td>\n",
       "      <td>37965.84</td>\n",
       "      <td>0</td>\n",
       "      <td>0.0</td>\n",
       "      <td>Berlin</td>\n",
       "    </tr>\n",
       "    <tr>\n",
       "      <th>4</th>\n",
       "      <td>28.0</td>\n",
       "      <td>47580.71</td>\n",
       "      <td>1</td>\n",
       "      <td>1.0</td>\n",
       "      <td>New York</td>\n",
       "    </tr>\n",
       "    <tr>\n",
       "      <th>5</th>\n",
       "      <td>28.0</td>\n",
       "      <td>56060.76</td>\n",
       "      <td>0</td>\n",
       "      <td>0.0</td>\n",
       "      <td>Paris</td>\n",
       "    </tr>\n",
       "  </tbody>\n",
       "</table>\n",
       "</div>"
      ],
      "text/plain": [
       "    Age    Income Gender  Registered      City\n",
       "1  29.0  43690.32      0         0.0     Paris\n",
       "2  36.0  44859.28      1         1.0     Tokyo\n",
       "3  45.0  37965.84      0         0.0    Berlin\n",
       "4  28.0  47580.71      1         1.0  New York\n",
       "5  28.0  56060.76      0         0.0     Paris"
      ]
     },
     "execution_count": 906,
     "metadata": {},
     "output_type": "execute_result"
    }
   ],
   "source": [
    "#Now lets change the City Feature into INT values\n",
    "df.head()"
   ]
  },
  {
   "cell_type": "code",
   "execution_count": 907,
   "id": "0789a968",
   "metadata": {},
   "outputs": [
    {
     "data": {
      "text/plain": [
       "City\n",
       "New York    17\n",
       "Paris       16\n",
       "Berlin      16\n",
       "Tokyo       13\n",
       "Name: count, dtype: int64"
      ]
     },
     "execution_count": 907,
     "metadata": {},
     "output_type": "execute_result"
    }
   ],
   "source": [
    "df[\"City\"].value_counts()"
   ]
  },
  {
   "cell_type": "code",
   "execution_count": 908,
   "id": "14f35a1c",
   "metadata": {},
   "outputs": [
    {
     "data": {
      "text/plain": [
       "City\n",
       "0    17\n",
       "1    16\n",
       "3    16\n",
       "2    13\n",
       "Name: count, dtype: int64"
      ]
     },
     "execution_count": 908,
     "metadata": {},
     "output_type": "execute_result"
    }
   ],
   "source": [
    "#Defining INT values to the existing cities in the feature\n",
    "df.loc[df[\"City\"] == \"New York\", \"City\"] = 0\n",
    "df.loc[df[\"City\"] == \"Paris\", \"City\"] = 1\n",
    "df.loc[df[\"City\"] == \"Tokyo\", \"City\"] = 2\n",
    "df.loc[df[\"City\"] == \"Berlin\", \"City\"] = 3\n",
    "df[\"City\"].value_counts()"
   ]
  },
  {
   "cell_type": "code",
   "execution_count": 909,
   "id": "59d3cf1f",
   "metadata": {},
   "outputs": [
    {
     "data": {
      "text/html": [
       "<div>\n",
       "<style scoped>\n",
       "    .dataframe tbody tr th:only-of-type {\n",
       "        vertical-align: middle;\n",
       "    }\n",
       "\n",
       "    .dataframe tbody tr th {\n",
       "        vertical-align: top;\n",
       "    }\n",
       "\n",
       "    .dataframe thead th {\n",
       "        text-align: right;\n",
       "    }\n",
       "</style>\n",
       "<table border=\"1\" class=\"dataframe\">\n",
       "  <thead>\n",
       "    <tr style=\"text-align: right;\">\n",
       "      <th></th>\n",
       "      <th>Age</th>\n",
       "      <th>Income</th>\n",
       "      <th>Gender</th>\n",
       "      <th>Registered</th>\n",
       "      <th>City</th>\n",
       "    </tr>\n",
       "  </thead>\n",
       "  <tbody>\n",
       "    <tr>\n",
       "      <th>1</th>\n",
       "      <td>29.0</td>\n",
       "      <td>43690.32</td>\n",
       "      <td>0</td>\n",
       "      <td>0.0</td>\n",
       "      <td>1</td>\n",
       "    </tr>\n",
       "    <tr>\n",
       "      <th>2</th>\n",
       "      <td>36.0</td>\n",
       "      <td>44859.28</td>\n",
       "      <td>1</td>\n",
       "      <td>1.0</td>\n",
       "      <td>2</td>\n",
       "    </tr>\n",
       "    <tr>\n",
       "      <th>3</th>\n",
       "      <td>45.0</td>\n",
       "      <td>37965.84</td>\n",
       "      <td>0</td>\n",
       "      <td>0.0</td>\n",
       "      <td>3</td>\n",
       "    </tr>\n",
       "    <tr>\n",
       "      <th>4</th>\n",
       "      <td>28.0</td>\n",
       "      <td>47580.71</td>\n",
       "      <td>1</td>\n",
       "      <td>1.0</td>\n",
       "      <td>0</td>\n",
       "    </tr>\n",
       "    <tr>\n",
       "      <th>5</th>\n",
       "      <td>28.0</td>\n",
       "      <td>56060.76</td>\n",
       "      <td>0</td>\n",
       "      <td>0.0</td>\n",
       "      <td>1</td>\n",
       "    </tr>\n",
       "  </tbody>\n",
       "</table>\n",
       "</div>"
      ],
      "text/plain": [
       "    Age    Income Gender  Registered City\n",
       "1  29.0  43690.32      0         0.0    1\n",
       "2  36.0  44859.28      1         1.0    2\n",
       "3  45.0  37965.84      0         0.0    3\n",
       "4  28.0  47580.71      1         1.0    0\n",
       "5  28.0  56060.76      0         0.0    1"
      ]
     },
     "execution_count": 909,
     "metadata": {},
     "output_type": "execute_result"
    }
   ],
   "source": [
    "#Now lets see the Dataset full clean haha\n",
    "df.head()"
   ]
  },
  {
   "cell_type": "markdown",
   "id": "871a7b56",
   "metadata": {},
   "source": [
    "# Difference in the Histogram Before and After the data cleaning in the data set"
   ]
  },
  {
   "cell_type": "markdown",
   "id": "5efdef5d",
   "metadata": {},
   "source": [
    "### Before the Data Cleaning"
   ]
  },
  {
   "cell_type": "code",
   "execution_count": 910,
   "id": "8b9dddc5",
   "metadata": {},
   "outputs": [],
   "source": [
    "df_original = pd.read_csv(\"Synthetic_Data_Cleaning_example.csv\")"
   ]
  },
  {
   "cell_type": "code",
   "execution_count": 911,
   "id": "bc128585",
   "metadata": {},
   "outputs": [
    {
     "data": {
      "text/plain": [
       "array([[<Axes: title={'center': 'Age'}>,\n",
       "        <Axes: title={'center': 'Income'}>],\n",
       "       [<Axes: title={'center': 'Registered'}>, <Axes: >]], dtype=object)"
      ]
     },
     "execution_count": 911,
     "metadata": {},
     "output_type": "execute_result"
    },
    {
     "data": {
      "image/png": "[encoded data removed]",
      "text/plain": [
       "<Figure size 1000x1000 with 4 Axes>"
      ]
     },
     "metadata": {},
     "output_type": "display_data"
    }
   ],
   "source": [
    "df_original.hist(figsize=(10,10))"
   ]
  },
  {
   "cell_type": "markdown",
   "id": "7e6bb795",
   "metadata": {},
   "source": [
    "### After the Data Cleaning"
   ]
  },
  {
   "cell_type": "code",
   "execution_count": 912,
   "id": "0ec7d813",
   "metadata": {},
   "outputs": [
    {
     "data": {
      "text/plain": [
       "array([[<Axes: title={'center': 'Age'}>,\n",
       "        <Axes: title={'center': 'Income'}>],\n",
       "       [<Axes: title={'center': 'Registered'}>, <Axes: >]], dtype=object)"
      ]
     },
     "execution_count": 912,
     "metadata": {},
     "output_type": "execute_result"
    },
    {
     "data": {
      "image/png": "[encoded data removed]",
      "text/plain": [
       "<Figure size 1000x1000 with 4 Axes>"
      ]
     },
     "metadata": {},
     "output_type": "display_data"
    }
   ],
   "source": [
    "df.hist(figsize=(10,10))"
   ]
  }
 ],
 "metadata": {
  "kernelspec": {
   "display_name": "Python 3",
   "language": "python",
   "name": "python3"
  },
  "language_info": {
   "codemirror_mode": {
    "name": "ipython",
    "version": 3
   },
   "file_extension": ".py",
   "mimetype": "text/x-python",
   "name": "python",
   "nbconvert_exporter": "python",
   "pygments_lexer": "ipython3",
   "version": "3.13.2"
  }
 },
 "nbformat": 4,
 "nbformat_minor": 5
}
